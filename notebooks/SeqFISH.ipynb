{
 "cells": [
  {
   "cell_type": "markdown",
   "id": "2f3df2ba",
   "metadata": {},
   "source": [
    "## seqFISH Processing Example"
   ]
  },
  {
   "cell_type": "code",
   "execution_count": null,
   "id": "41fd344b",
   "metadata": {},
   "outputs": [],
   "source": [
    "\n",
    "import os\n",
    "from copy import deepcopy\n",
    "from itertools import product\n",
    "\n",
    "import numpy as np\n",
    "import pandas as pd\n",
    "import skimage.filters\n",
    "import skimage.morphology\n",
    "from skimage.transform import SimilarityTransform, warp\n",
    "from tqdm import tqdm\n",
    "\n",
    "import starfish\n",
    "import starfish.data\n",
    "from starfish.types import Axes, Levels, TraceBuildingStrategies\n",
    "\n",
    "import matplotlib.pyplot as plt"
   ]
  },
  {
   "cell_type": "markdown",
   "id": "c223f116",
   "metadata": {},
   "source": [
    "### Load Image"
   ]
  },
  {
   "cell_type": "code",
   "execution_count": null,
   "id": "90d79266",
   "metadata": {},
   "outputs": [],
   "source": [
    "exp = starfish.data.SeqFISH(use_test_data=True)\n",
    "img = exp['fov_000'].get_image('primary')"
   ]
  },
  {
   "cell_type": "markdown",
   "id": "99516486",
   "metadata": {},
   "source": [
    "### Processing"
   ]
  },
  {
   "cell_type": "code",
   "execution_count": null,
   "id": "9b417793",
   "metadata": {},
   "outputs": [],
   "source": [
    "# Remove cellular autofluorescence w/ gaussian high-pass filter\n",
    "ghp = starfish.image.Filter.GaussianHighPass(sigma=3)\n",
    "ghp.run(img, verbose=False, in_place=True)\n",
    "\n",
    "# Increase resolution by deconvolving w/ point spread function\n",
    "dpsf = starfish.image.Filter.DeconvolvePSF(num_iter=15, sigma=3)\n",
    "dpsf.run(img, verbose=False, in_place=True)\n",
    "\n",
    "# Scale intensities in each volume and clip all but high intensity pixels\n",
    "clip = starfish.image.Filter.Clip(p_min=90, p_max=99.9, is_volume=True, level_method=Levels.SCALE_BY_CHUNK)\n",
    "scaled = clip.run(img, in_place=False)"
   ]
  },
  {
   "cell_type": "markdown",
   "id": "4577edcc",
   "metadata": {},
   "source": [
    "### Spot Finding"
   ]
  },
  {
   "cell_type": "code",
   "execution_count": null,
   "id": "98cd3960",
   "metadata": {},
   "outputs": [],
   "source": [
    "threshold = 0.1\n",
    "\n",
    "bd = starfish.spots.FindSpots.BlobDetector(\n",
    "    min_sigma=(1, 1, 1),\n",
    "    max_sigma=(5, 5, 5),\n",
    "    num_sigma=10,\n",
    "    threshold=threshold)\n",
    "\n",
    "spots = bd.run(scaled)"
   ]
  },
  {
   "cell_type": "markdown",
   "id": "0c4fcc39",
   "metadata": {},
   "source": [
    "### Decoding\n",
    "\n",
    "Comparison between using PerRoundMaxChannel w/ NEAREST_NEIGHBOR TraceBuildingStrategies and the three different accuracy modes of the CheckAll decoder.\n",
    "\n",
    "Runs each decoder for three different search radii parameters (1, 2, and 3) and creates a bar plot showing the total number of decoded mRNA targets found by each method. For the CheckAll decoder columns, the number of non-error corrected barcodes is denoted by a black line in the bar while the full height of the bar shows the combined number of error-corrected and non-error-corrected barcodes. \n",
    "\n"
   ]
  },
  {
   "cell_type": "code",
   "execution_count": null,
   "id": "2e87c0c4",
   "metadata": {},
   "outputs": [],
   "source": [
    "# Set the number of cpu cores to use in parallel for the CheckAll decoder. This significantly cuts down on run time.\n",
    "n_cpus = 24\n",
    "\n",
    "# Run each decoder for different search radius values\n",
    "for radius in [2, 3, 4]:\n",
    "    \n",
    "    # Decode using PerRoundMaxChannel NEAREST_NEIGHBOR method\n",
    "    decoder = starfish.spots.DecodeSpots.PerRoundMaxChannel(\n",
    "        codebook=exp.codebook,\n",
    "        search_radius=radius,\n",
    "        trace_building_strategy=TraceBuildingStrategies.NEAREST_NEIGHBOR)\n",
    "\n",
    "    decoded_prmc = decoder.run(spots=spots)\n",
    "    decoded_prmc = decoded_prmc[decoded_prmc['passes_thresholds']]\n",
    "\n",
    "    # Decode using high accuracy CheckAll method\n",
    "    decoder = starfish.spots.DecodeSpots.CheckAll(codebook=exp.codebook,\n",
    "                                                  search_radius=radius,\n",
    "                                                  error_rounds=1,\n",
    "                                                  mode='high')\n",
    "\n",
    "    checkall_high = decoder.run(spots=spots, n_processes=n_cpus)\n",
    "\n",
    "    # Decode using medium accuracy CheckAll method\n",
    "    decoder = starfish.spots.DecodeSpots.CheckAll(codebook=exp.codebook,\n",
    "                                                  search_radius=radius,\n",
    "                                                  error_rounds=1,\n",
    "                                                  mode='med')\n",
    "\n",
    "    checkall_med = decoder.run(spots=spots, n_processes=n_cpus)\n",
    "\n",
    "    # Decode using low accuracy CheckAll method\n",
    "    decoder = starfish.spots.DecodeSpots.CheckAll(codebook=exp.codebook,\n",
    "                                                  search_radius=radius,\n",
    "                                                  error_rounds=1,\n",
    "                                                  mode='low')\n",
    "\n",
    "    checkall_low = decoder.run(spots=spots, n_processes=n_cpus)\n",
    "\n",
    "    # Plot total number of barcodes from each method (black line shows number of full barcodes while bar height is\n",
    "    # the combined number of both error-corrected and non-error-corrected)\n",
    "    fig, axes = plt.subplots(1, 1, figsize=(15,15))\n",
    "\n",
    "    labels = ['PerRoundMaxChannel', 'CheckAll (high)', 'CheckAll (med)', 'CheckAll (low)']\n",
    "    axes.bar([1], len(decoded_prmc), color=(0/256, 119/256, 187/256), width=1, label='PerRoundMaxChannel')\n",
    "    axes.plot([0.5, 1.5], [len(decoded_prmc), len(decoded_prmc)], color='black', linewidth=3)\n",
    "    axes.bar([2], len(checkall_high), color=(0/256, 153/256, 136/256), width=1, label='CheckAll (high)')\n",
    "    axes.plot([1.5, 2.5],\n",
    "              [len(checkall_high[checkall_high['rounds_used'] == 5]), len(checkall_high[checkall_high['rounds_used'] == 5])],\n",
    "              color='black', linewidth=3)\n",
    "    axes.bar([3], len(checkall_med), color=(238/256, 119/256, 51/256), width=1, label='CheckAll (med)')\n",
    "    axes.plot([2.5, 3.5],\n",
    "              [len(checkall_med[checkall_med['rounds_used'] == 5]), len(checkall_med[checkall_med['rounds_used'] == 5])],\n",
    "              color='black', linewidth=3)\n",
    "    axes.bar([4], len(checkall_low), color=(238/256, 51/256, 119/256), width=1, label='CheckAll (low)')\n",
    "    axes.plot([3.5, 4.5],\n",
    "              [len(checkall_low[checkall_low['rounds_used'] == 5]), len(checkall_low[checkall_low['rounds_used'] == 5])],\n",
    "              color='black', linewidth=3)\n",
    "\n",
    "    axes.set_xticks(range(1,5))\n",
    "    axes.set_xticklabels(labels, size=16)\n",
    "    axes.set_yticks(range(0, int(len(checkall_low)+len(checkall_low)/10+1), 100))\n",
    "    axes.set_yticklabels(range(0, int(len(checkall_low)+len(checkall_low)/10+1), 100), size=16)\n",
    "    axes.set_ylim(0, len(checkall_low)+len(checkall_low)/10)\n",
    "    axes.set_xlabel('Decoding Method', size=20)\n",
    "    axes.set_ylabel('Total Decoded mRNAs', size=20)\n",
    "    axes.set_title(f'Search Radius = {radius}', size=30)"
   ]
  }
 ],
 "metadata": {
  "kernelspec": {
   "display_name": "Python 3 (ipykernel)",
   "language": "python",
   "name": "python3"
  },
  "language_info": {
   "codemirror_mode": {
    "name": "ipython",
    "version": 3
   },
   "file_extension": ".py",
   "mimetype": "text/x-python",
   "name": "python",
   "nbconvert_exporter": "python",
   "pygments_lexer": "ipython3",
   "version": "3.12.3"
  }
 },
 "nbformat": 4,
 "nbformat_minor": 5
}
