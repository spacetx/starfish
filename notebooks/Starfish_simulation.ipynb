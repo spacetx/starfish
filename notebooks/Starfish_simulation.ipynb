{
 "cells": [
  {
   "cell_type": "code",
   "execution_count": null,
   "metadata": {},
   "outputs": [],
   "source": [
    "%matplotlib inline\n",
    "import matplotlib.pyplot as plt\n",
    "import random"
   ]
  },
  {
   "cell_type": "code",
   "execution_count": null,
   "metadata": {},
   "outputs": [],
   "source": [
    "def choose(n, k):\n",
    "    if n == k:\n",
    "        return [[1]*k]\n",
    "    subsets = [[0] + a for a in choose(n-1,k)]\n",
    "    if k > 0:\n",
    "        subsets += [[1] + a for a in choose(n-1,k-1)]\n",
    "    return subsets\n",
    "\n",
    "def graham_sloane_codes(n):\n",
    "    # n is length of codeword\n",
    "    # number of on bits is 4\n",
    "    def code_sum(codeword):\n",
    "        return sum([i*c for i, c in enumerate(codeword)]) % n\n",
    "    return [c for c in choose(n, 4) if code_sum(c) == 0]"
   ]
  },
  {
   "cell_type": "code",
   "execution_count": null,
   "metadata": {},
   "outputs": [],
   "source": [
    "from numpy.random import permutation, rand, normal\n",
    "from numpy import ones, zeros, concatenate, array\n",
    "from numpy.random import poisson\n",
    "from pandas import DataFrame, concat\n",
    "from skimage.filters import gaussian\n",
    "\n",
    "p = {'N_high':4, #number of on bits (not used with current codebook)\n",
    "'N_barcode':8, #length of barcode\n",
    "'N_flour':200, #mean number of flourophores per transcripts - depends on amplification strategy (e.g HCR, bDNA)\n",
    "'N_photons_per_flour':50, #mean number of photons per flourophore - depends on exposure time, bleaching rate of dye\n",
    "'N_photon_background':1000, #mean number of background photons per pixel - depends on tissue clearing and autoflourescence\n",
    "'detection_efficiency':.25, #quantum efficiency of the camera detector units number of electrons per photon\n",
    "'N_background_electrons':1, #camera read noise per pixel in units electrons\n",
    "'N_spots':100, #number of RNA puncta\n",
    "'N_size':100,  #height and width of image in pixel units\n",
    "'psf':2,  #standard devitation of gaussian in pixel units\n",
    "'graylevel' : 37000.0/2**16, #dynamic range of camera sensor 37,000 assuming a 16-bit AD converter\n",
    "'bits': 16, #16-bit AD converter\n",
    "'dimension': 2, # dimension of data, 2 for planar, 3 for volume\n",
    "'N_planes': 20, # number of z planes, only used if dimension greater than 3\n",
    "'psf_z':4  #standard devitation of gaussian in pixel units for z dim\n",
    "}\n",
    "\n",
    "codebook = graham_sloane_codes(p['N_barcode'])\n",
    "\n",
    "def generate_spot(p):\n",
    "    position = rand(p['dimension'])\n",
    "    gene = random.choice(range(len(codebook)))\n",
    "    barcode = array(codebook[gene])\n",
    "    photons = [poisson(p['N_photons_per_flour'])*poisson(p['N_flour'])*b for b in barcode]\n",
    "    return DataFrame({'position': [position], 'barcode': [barcode], 'photons': [photons], 'gene':gene})\n",
    "\n",
    "# right now there is no jitter on positions of the spots, we might want to make it a vector"
   ]
  },
  {
   "cell_type": "code",
   "execution_count": null,
   "metadata": {},
   "outputs": [],
   "source": [
    "spots = concat([generate_spot(p) for i in range(p['N_spots'])])\n",
    "\n",
    "if p['dimension'] == 2:\n",
    "    image = zeros((p['N_barcode'], p['N_size'], p['N_size'],))\n",
    "\n",
    "    for s in spots.itertuples():\n",
    "        image[:, int(p['N_size']*s.position[0]), int(p['N_size']*s.position[1])] = s.photons\n",
    "\n",
    "    image_with_background = image + poisson(p['N_photon_background'], size = image.shape)\n",
    "    filtered = array([gaussian(im, p['psf']) for im in image_with_background])\n",
    "else:\n",
    "    image = zeros((p['N_barcode'], p['N_planes'], p['N_size'], p['N_size'],))\n",
    "\n",
    "    for s in spots.itertuples():\n",
    "        image[:, int(p['N_planes']*s.position[0]), int(p['N_size']*s.position[1]), int(p['N_size']*s.position[2])] = s.photons\n",
    "\n",
    "    image_with_background = image + poisson(p['N_photon_background'], size = image.shape)\n",
    "    filtered = array([gaussian(im, (p['psf_z'], p['psf'], p['psf'])) for im in image_with_background])\n",
    "\n",
    "\n",
    "filtered = filtered*p['detection_efficiency'] + normal(scale=p['N_background_electrons'], size=filtered.shape)\n",
    "signal = array([(x/p['graylevel']).astype(int).clip(0, 2**p['bits']) for x in filtered])"
   ]
  },
  {
   "cell_type": "code",
   "execution_count": null,
   "metadata": {},
   "outputs": [],
   "source": [
    "plt.imshow(signal[7])"
   ]
  },
  {
   "cell_type": "code",
   "execution_count": null,
   "metadata": {},
   "outputs": [],
   "source": [
    "spots"
   ]
  }
 ],
 "metadata": {
  "kernelspec": {
   "display_name": "Python 3",
   "language": "python",
   "name": "python3"
  },
  "language_info": {
   "codemirror_mode": {
    "name": "ipython",
    "version": 3
   },
   "file_extension": ".py",
   "mimetype": "text/x-python",
   "name": "python",
   "nbconvert_exporter": "python",
   "pygments_lexer": "ipython3",
   "version": "3.6.4"
  }
 },
 "nbformat": 4,
 "nbformat_minor": 2
}
